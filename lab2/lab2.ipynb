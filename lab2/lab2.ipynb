{
 "cells": [
  {
   "cell_type": "markdown",
   "id": "853c7179",
   "metadata": {},
   "source": [
    "# Лаборатораня работа №2: Обработка пропусков в данных, кодирование категориальных признаков, масштабирование данных."
   ]
  },
  {
   "cell_type": "markdown",
   "id": "d2237bd7",
   "metadata": {},
   "source": [
    "## 1) Обработка пропусков в данных"
   ]
  },
  {
   "cell_type": "code",
   "execution_count": 1,
   "id": "c8f67708",
   "metadata": {},
   "outputs": [],
   "source": [
    "import pandas as pd\n",
    "import numpy as np\n",
    "from matplotlib import pyplot as plt\n",
    "import seaborn as sns\n",
    "import math\n",
    "from sklearn.impute import SimpleImputer\n",
    "from sklearn.preprocessing import MinMaxScaler, StandardScaler, Normalizer"
   ]
  },
  {
   "cell_type": "code",
   "execution_count": 2,
   "id": "18732781",
   "metadata": {},
   "outputs": [],
   "source": [
    "data = pd.read_csv('credit_train.csv', encoding='cp1251', sep=';')"
   ]
  },
  {
   "cell_type": "code",
   "execution_count": 3,
   "id": "7a56aa7f",
   "metadata": {},
   "outputs": [
    {
     "data": {
      "text/html": [
       "<div>\n",
       "<style scoped>\n",
       "    .dataframe tbody tr th:only-of-type {\n",
       "        vertical-align: middle;\n",
       "    }\n",
       "\n",
       "    .dataframe tbody tr th {\n",
       "        vertical-align: top;\n",
       "    }\n",
       "\n",
       "    .dataframe thead th {\n",
       "        text-align: right;\n",
       "    }\n",
       "</style>\n",
       "<table border=\"1\" class=\"dataframe\">\n",
       "  <thead>\n",
       "    <tr style=\"text-align: right;\">\n",
       "      <th></th>\n",
       "      <th>client_id</th>\n",
       "      <th>gender</th>\n",
       "      <th>age</th>\n",
       "      <th>marital_status</th>\n",
       "      <th>job_position</th>\n",
       "      <th>credit_sum</th>\n",
       "      <th>credit_month</th>\n",
       "      <th>tariff_id</th>\n",
       "      <th>score_shk</th>\n",
       "      <th>education</th>\n",
       "      <th>living_region</th>\n",
       "      <th>monthly_income</th>\n",
       "      <th>credit_count</th>\n",
       "      <th>overdue_credit_count</th>\n",
       "      <th>open_account_flg</th>\n",
       "    </tr>\n",
       "  </thead>\n",
       "  <tbody>\n",
       "    <tr>\n",
       "      <th>0</th>\n",
       "      <td>1</td>\n",
       "      <td>M</td>\n",
       "      <td>NaN</td>\n",
       "      <td>NaN</td>\n",
       "      <td>UMN</td>\n",
       "      <td>59998,00</td>\n",
       "      <td>10</td>\n",
       "      <td>1.6</td>\n",
       "      <td>NaN</td>\n",
       "      <td>GRD</td>\n",
       "      <td>КРАСНОДАРСКИЙ КРАЙ</td>\n",
       "      <td>30000.0</td>\n",
       "      <td>1.0</td>\n",
       "      <td>1.0</td>\n",
       "      <td>0</td>\n",
       "    </tr>\n",
       "    <tr>\n",
       "      <th>1</th>\n",
       "      <td>2</td>\n",
       "      <td>F</td>\n",
       "      <td>NaN</td>\n",
       "      <td>MAR</td>\n",
       "      <td>UMN</td>\n",
       "      <td>10889,00</td>\n",
       "      <td>6</td>\n",
       "      <td>1.1</td>\n",
       "      <td>NaN</td>\n",
       "      <td>NaN</td>\n",
       "      <td>МОСКВА</td>\n",
       "      <td>NaN</td>\n",
       "      <td>2.0</td>\n",
       "      <td>0.0</td>\n",
       "      <td>0</td>\n",
       "    </tr>\n",
       "    <tr>\n",
       "      <th>2</th>\n",
       "      <td>3</td>\n",
       "      <td>M</td>\n",
       "      <td>32.0</td>\n",
       "      <td>MAR</td>\n",
       "      <td>SPC</td>\n",
       "      <td>10728,00</td>\n",
       "      <td>12</td>\n",
       "      <td>1.1</td>\n",
       "      <td>NaN</td>\n",
       "      <td>NaN</td>\n",
       "      <td>ОБЛ САРАТОВСКАЯ</td>\n",
       "      <td>NaN</td>\n",
       "      <td>5.0</td>\n",
       "      <td>0.0</td>\n",
       "      <td>0</td>\n",
       "    </tr>\n",
       "    <tr>\n",
       "      <th>3</th>\n",
       "      <td>4</td>\n",
       "      <td>F</td>\n",
       "      <td>27.0</td>\n",
       "      <td>NaN</td>\n",
       "      <td>SPC</td>\n",
       "      <td>12009,09</td>\n",
       "      <td>12</td>\n",
       "      <td>1.1</td>\n",
       "      <td>NaN</td>\n",
       "      <td>NaN</td>\n",
       "      <td>ОБЛ ВОЛГОГРАДСКАЯ</td>\n",
       "      <td>NaN</td>\n",
       "      <td>2.0</td>\n",
       "      <td>0.0</td>\n",
       "      <td>0</td>\n",
       "    </tr>\n",
       "    <tr>\n",
       "      <th>4</th>\n",
       "      <td>5</td>\n",
       "      <td>M</td>\n",
       "      <td>45.0</td>\n",
       "      <td>NaN</td>\n",
       "      <td>SPC</td>\n",
       "      <td>NaN</td>\n",
       "      <td>10</td>\n",
       "      <td>1.1</td>\n",
       "      <td>0,421385</td>\n",
       "      <td>SCH</td>\n",
       "      <td>ЧЕЛЯБИНСКАЯ ОБЛАСТЬ</td>\n",
       "      <td>NaN</td>\n",
       "      <td>1.0</td>\n",
       "      <td>0.0</td>\n",
       "      <td>0</td>\n",
       "    </tr>\n",
       "  </tbody>\n",
       "</table>\n",
       "</div>"
      ],
      "text/plain": [
       "   client_id gender   age marital_status job_position credit_sum  \\\n",
       "0          1      M   NaN            NaN          UMN   59998,00   \n",
       "1          2      F   NaN            MAR          UMN   10889,00   \n",
       "2          3      M  32.0            MAR          SPC   10728,00   \n",
       "3          4      F  27.0            NaN          SPC   12009,09   \n",
       "4          5      M  45.0            NaN          SPC        NaN   \n",
       "\n",
       "   credit_month  tariff_id score_shk education        living_region  \\\n",
       "0            10        1.6       NaN       GRD   КРАСНОДАРСКИЙ КРАЙ   \n",
       "1             6        1.1       NaN       NaN               МОСКВА   \n",
       "2            12        1.1       NaN       NaN      ОБЛ САРАТОВСКАЯ   \n",
       "3            12        1.1       NaN       NaN    ОБЛ ВОЛГОГРАДСКАЯ   \n",
       "4            10        1.1  0,421385       SCH  ЧЕЛЯБИНСКАЯ ОБЛАСТЬ   \n",
       "\n",
       "   monthly_income  credit_count  overdue_credit_count  open_account_flg  \n",
       "0         30000.0           1.0                   1.0                 0  \n",
       "1             NaN           2.0                   0.0                 0  \n",
       "2             NaN           5.0                   0.0                 0  \n",
       "3             NaN           2.0                   0.0                 0  \n",
       "4             NaN           1.0                   0.0                 0  "
      ]
     },
     "execution_count": 3,
     "metadata": {},
     "output_type": "execute_result"
    }
   ],
   "source": [
    "data.head()"
   ]
  },
  {
   "cell_type": "code",
   "execution_count": 4,
   "id": "17c2e790",
   "metadata": {},
   "outputs": [
    {
     "name": "stdout",
     "output_type": "stream",
     "text": [
      "<class 'pandas.core.frame.DataFrame'>\n",
      "RangeIndex: 170746 entries, 0 to 170745\n",
      "Data columns (total 15 columns):\n",
      " #   Column                Non-Null Count   Dtype  \n",
      "---  ------                --------------   -----  \n",
      " 0   client_id             170746 non-null  int64  \n",
      " 1   gender                170746 non-null  object \n",
      " 2   age                   170743 non-null  float64\n",
      " 3   marital_status        170743 non-null  object \n",
      " 4   job_position          170746 non-null  object \n",
      " 5   credit_sum            170744 non-null  object \n",
      " 6   credit_month          170746 non-null  int64  \n",
      " 7   tariff_id             170746 non-null  float64\n",
      " 8   score_shk             170739 non-null  object \n",
      " 9   education             170741 non-null  object \n",
      " 10  living_region         170554 non-null  object \n",
      " 11  monthly_income        170741 non-null  float64\n",
      " 12  credit_count          161516 non-null  float64\n",
      " 13  overdue_credit_count  161516 non-null  float64\n",
      " 14  open_account_flg      170746 non-null  int64  \n",
      "dtypes: float64(5), int64(3), object(7)\n",
      "memory usage: 19.5+ MB\n"
     ]
    }
   ],
   "source": [
    "data.info()"
   ]
  },
  {
   "cell_type": "code",
   "execution_count": 5,
   "id": "dc276a92",
   "metadata": {},
   "outputs": [
    {
     "name": "stdout",
     "output_type": "stream",
     "text": [
      "Всего строк: 170746\n"
     ]
    }
   ],
   "source": [
    "total_count = data.shape[0]\n",
    "print('Всего строк: {}'.format(total_count))"
   ]
  },
  {
   "cell_type": "code",
   "execution_count": 6,
   "id": "ab46812b",
   "metadata": {},
   "outputs": [],
   "source": [
    "data.drop(['client_id'], axis=1, inplace=True)"
   ]
  },
  {
   "cell_type": "code",
   "execution_count": 7,
   "id": "4a08639a",
   "metadata": {},
   "outputs": [],
   "source": [
    "for i in ['credit_sum', 'score_shk']:\n",
    "    data[i] = data[i].str.replace(',', '.').astype('float')"
   ]
  },
  {
   "cell_type": "code",
   "execution_count": 8,
   "id": "13d3ecf2",
   "metadata": {},
   "outputs": [
    {
     "name": "stdout",
     "output_type": "stream",
     "text": [
      "Колонка age. Тип данных float64. Количество пустых значений 3, 0.0%.\n",
      "Колонка credit_sum. Тип данных float64. Количество пустых значений 2, 0.0%.\n",
      "Колонка score_shk. Тип данных float64. Количество пустых значений 7, 0.0%.\n",
      "Колонка monthly_income. Тип данных float64. Количество пустых значений 5, 0.0%.\n",
      "Колонка credit_count. Тип данных float64. Количество пустых значений 9230, 5.41%.\n",
      "Колонка overdue_credit_count. Тип данных float64. Количество пустых значений 9230, 5.41%.\n"
     ]
    }
   ],
   "source": [
    "# Выберем числовые колонки с пропущенными значениями\n",
    "# Цикл по колонкам датасета\n",
    "num_cols = []\n",
    "for col in data.columns:\n",
    "    # Количество пустых значений \n",
    "    temp_null_count = data[data[col].isnull()].shape[0]\n",
    "    dt = str(data[col].dtype)\n",
    "    if temp_null_count>0 and (dt=='float64' or dt=='int64'):\n",
    "        num_cols.append(col)\n",
    "        temp_perc = round((temp_null_count / total_count) * 100.0, 2)\n",
    "        print('Колонка {}. Тип данных {}. Количество пустых значений {}, {}%.'.format(col, dt, temp_null_count, temp_perc))"
   ]
  },
  {
   "cell_type": "code",
   "execution_count": 9,
   "id": "4dbff9a2",
   "metadata": {},
   "outputs": [
    {
     "data": {
      "text/html": [
       "<div>\n",
       "<style scoped>\n",
       "    .dataframe tbody tr th:only-of-type {\n",
       "        vertical-align: middle;\n",
       "    }\n",
       "\n",
       "    .dataframe tbody tr th {\n",
       "        vertical-align: top;\n",
       "    }\n",
       "\n",
       "    .dataframe thead th {\n",
       "        text-align: right;\n",
       "    }\n",
       "</style>\n",
       "<table border=\"1\" class=\"dataframe\">\n",
       "  <thead>\n",
       "    <tr style=\"text-align: right;\">\n",
       "      <th></th>\n",
       "      <th>age</th>\n",
       "      <th>credit_sum</th>\n",
       "      <th>score_shk</th>\n",
       "      <th>monthly_income</th>\n",
       "      <th>credit_count</th>\n",
       "      <th>overdue_credit_count</th>\n",
       "    </tr>\n",
       "  </thead>\n",
       "  <tbody>\n",
       "    <tr>\n",
       "      <th>0</th>\n",
       "      <td>NaN</td>\n",
       "      <td>59998.00</td>\n",
       "      <td>NaN</td>\n",
       "      <td>30000.0</td>\n",
       "      <td>1.0</td>\n",
       "      <td>1.0</td>\n",
       "    </tr>\n",
       "    <tr>\n",
       "      <th>1</th>\n",
       "      <td>NaN</td>\n",
       "      <td>10889.00</td>\n",
       "      <td>NaN</td>\n",
       "      <td>NaN</td>\n",
       "      <td>2.0</td>\n",
       "      <td>0.0</td>\n",
       "    </tr>\n",
       "    <tr>\n",
       "      <th>2</th>\n",
       "      <td>32.0</td>\n",
       "      <td>10728.00</td>\n",
       "      <td>NaN</td>\n",
       "      <td>NaN</td>\n",
       "      <td>5.0</td>\n",
       "      <td>0.0</td>\n",
       "    </tr>\n",
       "    <tr>\n",
       "      <th>3</th>\n",
       "      <td>27.0</td>\n",
       "      <td>12009.09</td>\n",
       "      <td>NaN</td>\n",
       "      <td>NaN</td>\n",
       "      <td>2.0</td>\n",
       "      <td>0.0</td>\n",
       "    </tr>\n",
       "    <tr>\n",
       "      <th>4</th>\n",
       "      <td>45.0</td>\n",
       "      <td>NaN</td>\n",
       "      <td>0.421385</td>\n",
       "      <td>NaN</td>\n",
       "      <td>1.0</td>\n",
       "      <td>0.0</td>\n",
       "    </tr>\n",
       "    <tr>\n",
       "      <th>...</th>\n",
       "      <td>...</td>\n",
       "      <td>...</td>\n",
       "      <td>...</td>\n",
       "      <td>...</td>\n",
       "      <td>...</td>\n",
       "      <td>...</td>\n",
       "    </tr>\n",
       "    <tr>\n",
       "      <th>170741</th>\n",
       "      <td>27.0</td>\n",
       "      <td>64867.00</td>\n",
       "      <td>0.535257</td>\n",
       "      <td>40000.0</td>\n",
       "      <td>6.0</td>\n",
       "      <td>0.0</td>\n",
       "    </tr>\n",
       "    <tr>\n",
       "      <th>170742</th>\n",
       "      <td>24.0</td>\n",
       "      <td>17640.00</td>\n",
       "      <td>0.573287</td>\n",
       "      <td>30000.0</td>\n",
       "      <td>1.0</td>\n",
       "      <td>0.0</td>\n",
       "    </tr>\n",
       "    <tr>\n",
       "      <th>170743</th>\n",
       "      <td>31.0</td>\n",
       "      <td>27556.47</td>\n",
       "      <td>0.416098</td>\n",
       "      <td>40000.0</td>\n",
       "      <td>1.0</td>\n",
       "      <td>0.0</td>\n",
       "    </tr>\n",
       "    <tr>\n",
       "      <th>170744</th>\n",
       "      <td>53.0</td>\n",
       "      <td>6189.00</td>\n",
       "      <td>0.482595</td>\n",
       "      <td>31000.0</td>\n",
       "      <td>2.0</td>\n",
       "      <td>0.0</td>\n",
       "    </tr>\n",
       "    <tr>\n",
       "      <th>170745</th>\n",
       "      <td>49.0</td>\n",
       "      <td>12787.00</td>\n",
       "      <td>0.316087</td>\n",
       "      <td>40000.0</td>\n",
       "      <td>3.0</td>\n",
       "      <td>0.0</td>\n",
       "    </tr>\n",
       "  </tbody>\n",
       "</table>\n",
       "<p>170746 rows × 6 columns</p>\n",
       "</div>"
      ],
      "text/plain": [
       "         age  credit_sum  score_shk  monthly_income  credit_count  \\\n",
       "0        NaN    59998.00        NaN         30000.0           1.0   \n",
       "1        NaN    10889.00        NaN             NaN           2.0   \n",
       "2       32.0    10728.00        NaN             NaN           5.0   \n",
       "3       27.0    12009.09        NaN             NaN           2.0   \n",
       "4       45.0         NaN   0.421385             NaN           1.0   \n",
       "...      ...         ...        ...             ...           ...   \n",
       "170741  27.0    64867.00   0.535257         40000.0           6.0   \n",
       "170742  24.0    17640.00   0.573287         30000.0           1.0   \n",
       "170743  31.0    27556.47   0.416098         40000.0           1.0   \n",
       "170744  53.0     6189.00   0.482595         31000.0           2.0   \n",
       "170745  49.0    12787.00   0.316087         40000.0           3.0   \n",
       "\n",
       "        overdue_credit_count  \n",
       "0                        1.0  \n",
       "1                        0.0  \n",
       "2                        0.0  \n",
       "3                        0.0  \n",
       "4                        0.0  \n",
       "...                      ...  \n",
       "170741                   0.0  \n",
       "170742                   0.0  \n",
       "170743                   0.0  \n",
       "170744                   0.0  \n",
       "170745                   0.0  \n",
       "\n",
       "[170746 rows x 6 columns]"
      ]
     },
     "execution_count": 9,
     "metadata": {},
     "output_type": "execute_result"
    }
   ],
   "source": [
    "# Фильтр по колонкам с пропущенными значениями\n",
    "data_num = data[num_cols]\n",
    "data_num"
   ]
  },
  {
   "cell_type": "code",
   "execution_count": 10,
   "id": "3279dbc0",
   "metadata": {},
   "outputs": [
    {
     "data": {
      "image/png": "[encoded data removed]",
      "text/plain": [
       "<Figure size 432x288 with 1 Axes>"
      ]
     },
     "metadata": {},
     "output_type": "display_data"
    },
    {
     "data": {
      "image/png": "[encoded data removed]",
      "text/plain": [
       "<Figure size 432x288 with 1 Axes>"
      ]
     },
     "metadata": {},
     "output_type": "display_data"
    },
    {
     "data": {
      "image/png": "[encoded data removed]",
      "text/plain": [
       "<Figure size 432x288 with 1 Axes>"
      ]
     },
     "metadata": {},
     "output_type": "display_data"
    },
    {
     "data": {
      "image/png": "[encoded data removed]",
      "text/plain": [
       "<Figure size 432x288 with 1 Axes>"
      ]
     },
     "metadata": {},
     "output_type": "display_data"
    },
    {
     "data": {
      "image/png": "[encoded data removed]",
      "text/plain": [
       "<Figure size 432x288 with 1 Axes>"
      ]
     },
     "metadata": {},
     "output_type": "display_data"
    },
    {
     "data": {
      "image/png": "[encoded data removed]",
      "text/plain": [
       "<Figure size 432x288 with 1 Axes>"
      ]
     },
     "metadata": {},
     "output_type": "display_data"
    }
   ],
   "source": [
    "# Гистограмма по признакам\n",
    "sns.set(style=\"ticks\")\n",
    "for col in data_num:\n",
    "    plt.hist(data[col], 54)\n",
    "    plt.xlabel(col)\n",
    "    plt.show()"
   ]
  },
  {
   "cell_type": "code",
   "execution_count": 11,
   "id": "93c2effd",
   "metadata": {},
   "outputs": [],
   "source": [
    "from sklearn.impute import SimpleImputer\n",
    "from sklearn.impute import MissingIndicator"
   ]
  },
  {
   "cell_type": "code",
   "execution_count": 12,
   "id": "11e9c199",
   "metadata": {},
   "outputs": [],
   "source": [
    "data = data.dropna(subset=['age'], axis=0)\n",
    "data = data.dropna(subset=['monthly_income'], axis=0)\n",
    "data = data.dropna(subset=['credit_sum'], axis=0)\n",
    "data = data.dropna(subset=['score_shk'], axis=0)"
   ]
  },
  {
   "cell_type": "code",
   "execution_count": 13,
   "id": "73ab1156",
   "metadata": {},
   "outputs": [],
   "source": [
    "data['credit_count'] = SimpleImputer(strategy='median').fit_transform(data['credit_count'].values.reshape(-1, 1))\n",
    "data['overdue_credit_count'] = SimpleImputer(strategy='median').fit_transform(data['overdue_credit_count'].values.reshape(-1, 1))"
   ]
  },
  {
   "cell_type": "code",
   "execution_count": 14,
   "id": "9a40f511",
   "metadata": {},
   "outputs": [
    {
     "data": {
      "text/plain": [
       "gender                    0\n",
       "age                       0\n",
       "marital_status            0\n",
       "job_position              0\n",
       "credit_sum                0\n",
       "credit_month              0\n",
       "tariff_id                 0\n",
       "score_shk                 0\n",
       "education                 2\n",
       "living_region           192\n",
       "monthly_income            0\n",
       "credit_count              0\n",
       "overdue_credit_count      0\n",
       "open_account_flg          0\n",
       "dtype: int64"
      ]
     },
     "execution_count": 14,
     "metadata": {},
     "output_type": "execute_result"
    }
   ],
   "source": [
    "data.isnull().sum()"
   ]
  },
  {
   "cell_type": "markdown",
   "id": "953fc4b5",
   "metadata": {},
   "source": [
    "### Обработка пропусков в категориальных данных"
   ]
  },
  {
   "cell_type": "code",
   "execution_count": 15,
   "id": "fef7e537",
   "metadata": {},
   "outputs": [
    {
     "name": "stdout",
     "output_type": "stream",
     "text": [
      "Колонка education. Тип данных object. Количество пустых значений 2, 0.0%.\n",
      "Колонка living_region. Тип данных object. Количество пустых значений 192, 0.11%.\n"
     ]
    }
   ],
   "source": [
    "# Выберем категориальные колонки с пропущенными значениями\n",
    "# Цикл по колонкам датасета\n",
    "cat_cols = []\n",
    "for col in data.columns:\n",
    "    # Количество пустых значений \n",
    "    temp_null_count = data[data[col].isnull()].shape[0]\n",
    "    dt = str(data[col].dtype)\n",
    "    if temp_null_count>0 and (dt=='object'):\n",
    "        cat_cols.append(col)\n",
    "        temp_perc = round((temp_null_count / total_count) * 100.0, 2)\n",
    "        print('Колонка {}. Тип данных {}. Количество пустых значений {}, {}%.'.format(col, dt, temp_null_count, temp_perc))"
   ]
  },
  {
   "cell_type": "code",
   "execution_count": 16,
   "id": "f1d07190",
   "metadata": {},
   "outputs": [],
   "source": [
    "data['education'] = SimpleImputer(missing_values=np.nan, strategy='most_frequent').fit_transform(data['education'].values.reshape(-1,1))\n",
    "data['living_region'] = SimpleImputer(missing_values=np.nan, strategy='most_frequent').fit_transform(data['living_region'].values.reshape(-1,1))"
   ]
  },
  {
   "cell_type": "code",
   "execution_count": 17,
   "id": "709a548b",
   "metadata": {},
   "outputs": [
    {
     "data": {
      "text/plain": [
       "gender                  0\n",
       "age                     0\n",
       "marital_status          0\n",
       "job_position            0\n",
       "credit_sum              0\n",
       "credit_month            0\n",
       "tariff_id               0\n",
       "score_shk               0\n",
       "education               0\n",
       "living_region           0\n",
       "monthly_income          0\n",
       "credit_count            0\n",
       "overdue_credit_count    0\n",
       "open_account_flg        0\n",
       "dtype: int64"
      ]
     },
     "execution_count": 17,
     "metadata": {},
     "output_type": "execute_result"
    }
   ],
   "source": [
    "data.isnull().sum()"
   ]
  },
  {
   "cell_type": "markdown",
   "id": "0d55af71",
   "metadata": {},
   "source": [
    "## 2) Кодирование категориальных признаков"
   ]
  },
  {
   "cell_type": "code",
   "execution_count": 18,
   "id": "a30841a8",
   "metadata": {},
   "outputs": [
    {
     "data": {
      "text/html": [
       "<div>\n",
       "<style scoped>\n",
       "    .dataframe tbody tr th:only-of-type {\n",
       "        vertical-align: middle;\n",
       "    }\n",
       "\n",
       "    .dataframe tbody tr th {\n",
       "        vertical-align: top;\n",
       "    }\n",
       "\n",
       "    .dataframe thead th {\n",
       "        text-align: right;\n",
       "    }\n",
       "</style>\n",
       "<table border=\"1\" class=\"dataframe\">\n",
       "  <thead>\n",
       "    <tr style=\"text-align: right;\">\n",
       "      <th></th>\n",
       "      <th>gender</th>\n",
       "      <th>age</th>\n",
       "      <th>marital_status</th>\n",
       "      <th>job_position</th>\n",
       "      <th>credit_sum</th>\n",
       "      <th>credit_month</th>\n",
       "      <th>tariff_id</th>\n",
       "      <th>score_shk</th>\n",
       "      <th>education</th>\n",
       "      <th>living_region</th>\n",
       "      <th>monthly_income</th>\n",
       "      <th>credit_count</th>\n",
       "      <th>overdue_credit_count</th>\n",
       "      <th>open_account_flg</th>\n",
       "    </tr>\n",
       "  </thead>\n",
       "  <tbody>\n",
       "    <tr>\n",
       "      <th>7</th>\n",
       "      <td>F</td>\n",
       "      <td>26.0</td>\n",
       "      <td>UNM</td>\n",
       "      <td>SPC</td>\n",
       "      <td>47878.0</td>\n",
       "      <td>10</td>\n",
       "      <td>1.10</td>\n",
       "      <td>0.512525</td>\n",
       "      <td>GRD</td>\n",
       "      <td>МОСКОВСКАЯ ОБЛ</td>\n",
       "      <td>60000.0</td>\n",
       "      <td>3.0</td>\n",
       "      <td>0.0</td>\n",
       "      <td>0</td>\n",
       "    </tr>\n",
       "    <tr>\n",
       "      <th>9</th>\n",
       "      <td>F</td>\n",
       "      <td>32.0</td>\n",
       "      <td>UNM</td>\n",
       "      <td>SPC</td>\n",
       "      <td>26268.0</td>\n",
       "      <td>10</td>\n",
       "      <td>1.10</td>\n",
       "      <td>0.465026</td>\n",
       "      <td>GRD</td>\n",
       "      <td>КРАЙ СТАВРОПОЛЬСКИЙ</td>\n",
       "      <td>39500.0</td>\n",
       "      <td>7.0</td>\n",
       "      <td>0.0</td>\n",
       "      <td>0</td>\n",
       "    </tr>\n",
       "    <tr>\n",
       "      <th>10</th>\n",
       "      <td>M</td>\n",
       "      <td>26.0</td>\n",
       "      <td>MAR</td>\n",
       "      <td>SPC</td>\n",
       "      <td>16793.0</td>\n",
       "      <td>14</td>\n",
       "      <td>1.00</td>\n",
       "      <td>0.445430</td>\n",
       "      <td>SCH</td>\n",
       "      <td>САНКТ-ПЕТЕРБУРГ</td>\n",
       "      <td>36000.0</td>\n",
       "      <td>2.0</td>\n",
       "      <td>0.0</td>\n",
       "      <td>0</td>\n",
       "    </tr>\n",
       "    <tr>\n",
       "      <th>11</th>\n",
       "      <td>F</td>\n",
       "      <td>26.0</td>\n",
       "      <td>UNM</td>\n",
       "      <td>SPC</td>\n",
       "      <td>18936.0</td>\n",
       "      <td>10</td>\n",
       "      <td>1.32</td>\n",
       "      <td>0.455774</td>\n",
       "      <td>SCH</td>\n",
       "      <td>РЕСП. БАШКОРТОСТАН</td>\n",
       "      <td>30000.0</td>\n",
       "      <td>0.0</td>\n",
       "      <td>0.0</td>\n",
       "      <td>0</td>\n",
       "    </tr>\n",
       "    <tr>\n",
       "      <th>12</th>\n",
       "      <td>M</td>\n",
       "      <td>37.0</td>\n",
       "      <td>MAR</td>\n",
       "      <td>SPC</td>\n",
       "      <td>42289.0</td>\n",
       "      <td>10</td>\n",
       "      <td>1.60</td>\n",
       "      <td>0.691609</td>\n",
       "      <td>SCH</td>\n",
       "      <td>ОБЛ АРХАНГЕЛЬСКАЯ</td>\n",
       "      <td>70000.0</td>\n",
       "      <td>1.0</td>\n",
       "      <td>0.0</td>\n",
       "      <td>0</td>\n",
       "    </tr>\n",
       "  </tbody>\n",
       "</table>\n",
       "</div>"
      ],
      "text/plain": [
       "   gender   age marital_status job_position  credit_sum  credit_month  \\\n",
       "7       F  26.0            UNM          SPC     47878.0            10   \n",
       "9       F  32.0            UNM          SPC     26268.0            10   \n",
       "10      M  26.0            MAR          SPC     16793.0            14   \n",
       "11      F  26.0            UNM          SPC     18936.0            10   \n",
       "12      M  37.0            MAR          SPC     42289.0            10   \n",
       "\n",
       "    tariff_id  score_shk education        living_region  monthly_income  \\\n",
       "7        1.10   0.512525       GRD       МОСКОВСКАЯ ОБЛ         60000.0   \n",
       "9        1.10   0.465026       GRD  КРАЙ СТАВРОПОЛЬСКИЙ         39500.0   \n",
       "10       1.00   0.445430       SCH      САНКТ-ПЕТЕРБУРГ         36000.0   \n",
       "11       1.32   0.455774       SCH   РЕСП. БАШКОРТОСТАН         30000.0   \n",
       "12       1.60   0.691609       SCH    ОБЛ АРХАНГЕЛЬСКАЯ         70000.0   \n",
       "\n",
       "    credit_count  overdue_credit_count  open_account_flg  \n",
       "7            3.0                   0.0                 0  \n",
       "9            7.0                   0.0                 0  \n",
       "10           2.0                   0.0                 0  \n",
       "11           0.0                   0.0                 0  \n",
       "12           1.0                   0.0                 0  "
      ]
     },
     "execution_count": 18,
     "metadata": {},
     "output_type": "execute_result"
    }
   ],
   "source": [
    "data.head()"
   ]
  },
  {
   "cell_type": "code",
   "execution_count": 19,
   "id": "dd298caf",
   "metadata": {},
   "outputs": [
    {
     "name": "stdout",
     "output_type": "stream",
     "text": [
      "<class 'pandas.core.frame.DataFrame'>\n",
      "Int64Index: 170737 entries, 7 to 170745\n",
      "Data columns (total 14 columns):\n",
      " #   Column                Non-Null Count   Dtype  \n",
      "---  ------                --------------   -----  \n",
      " 0   gender                170737 non-null  object \n",
      " 1   age                   170737 non-null  float64\n",
      " 2   marital_status        170737 non-null  object \n",
      " 3   job_position          170737 non-null  object \n",
      " 4   credit_sum            170737 non-null  float64\n",
      " 5   credit_month          170737 non-null  int64  \n",
      " 6   tariff_id             170737 non-null  float64\n",
      " 7   score_shk             170737 non-null  float64\n",
      " 8   education             170737 non-null  object \n",
      " 9   living_region         170737 non-null  object \n",
      " 10  monthly_income        170737 non-null  float64\n",
      " 11  credit_count          170737 non-null  float64\n",
      " 12  overdue_credit_count  170737 non-null  float64\n",
      " 13  open_account_flg      170737 non-null  int64  \n",
      "dtypes: float64(7), int64(2), object(5)\n",
      "memory usage: 19.5+ MB\n"
     ]
    }
   ],
   "source": [
    "data.info()"
   ]
  },
  {
   "cell_type": "code",
   "execution_count": 20,
   "id": "569d7366",
   "metadata": {},
   "outputs": [],
   "source": [
    "category_cols = ['gender', 'marital_status', 'job_position', 'education', 'living_region']"
   ]
  },
  {
   "cell_type": "code",
   "execution_count": 21,
   "id": "9bedd3ec",
   "metadata": {},
   "outputs": [
    {
     "name": "stdout",
     "output_type": "stream",
     "text": [
      "Количество уникальных значений\n",
      "\n",
      "gender: 2\n",
      "marital_status: 5\n",
      "job_position: 18\n",
      "education: 5\n",
      "living_region: 301\n"
     ]
    }
   ],
   "source": [
    "print(\"Количество уникальных значений\\n\")\n",
    "for col in category_cols:\n",
    "    print(f'{col}: {data[col].unique().size}')"
   ]
  },
  {
   "cell_type": "code",
   "execution_count": 22,
   "id": "a07e275e",
   "metadata": {},
   "outputs": [],
   "source": [
    "category_cols.remove('living_region')"
   ]
  },
  {
   "cell_type": "code",
   "execution_count": 23,
   "id": "906d7721",
   "metadata": {},
   "outputs": [],
   "source": [
    "for col in category_cols:\n",
    "    data = pd.concat([data, pd.get_dummies(data[col])], axis=1)"
   ]
  },
  {
   "cell_type": "code",
   "execution_count": 24,
   "id": "1b9af273",
   "metadata": {},
   "outputs": [
    {
     "data": {
      "text/html": [
       "<div>\n",
       "<style scoped>\n",
       "    .dataframe tbody tr th:only-of-type {\n",
       "        vertical-align: middle;\n",
       "    }\n",
       "\n",
       "    .dataframe tbody tr th {\n",
       "        vertical-align: top;\n",
       "    }\n",
       "\n",
       "    .dataframe thead th {\n",
       "        text-align: right;\n",
       "    }\n",
       "</style>\n",
       "<table border=\"1\" class=\"dataframe\">\n",
       "  <thead>\n",
       "    <tr style=\"text-align: right;\">\n",
       "      <th></th>\n",
       "      <th>gender</th>\n",
       "      <th>age</th>\n",
       "      <th>marital_status</th>\n",
       "      <th>job_position</th>\n",
       "      <th>credit_sum</th>\n",
       "      <th>credit_month</th>\n",
       "      <th>tariff_id</th>\n",
       "      <th>score_shk</th>\n",
       "      <th>education</th>\n",
       "      <th>living_region</th>\n",
       "      <th>...</th>\n",
       "      <th>SPC</th>\n",
       "      <th>UMN</th>\n",
       "      <th>WOI</th>\n",
       "      <th>WRK</th>\n",
       "      <th>WRP</th>\n",
       "      <th>ACD</th>\n",
       "      <th>GRD</th>\n",
       "      <th>PGR</th>\n",
       "      <th>SCH</th>\n",
       "      <th>UGR</th>\n",
       "    </tr>\n",
       "  </thead>\n",
       "  <tbody>\n",
       "    <tr>\n",
       "      <th>7</th>\n",
       "      <td>F</td>\n",
       "      <td>26.0</td>\n",
       "      <td>UNM</td>\n",
       "      <td>SPC</td>\n",
       "      <td>47878.0</td>\n",
       "      <td>10</td>\n",
       "      <td>1.10</td>\n",
       "      <td>0.512525</td>\n",
       "      <td>GRD</td>\n",
       "      <td>МОСКОВСКАЯ ОБЛ</td>\n",
       "      <td>...</td>\n",
       "      <td>1</td>\n",
       "      <td>0</td>\n",
       "      <td>0</td>\n",
       "      <td>0</td>\n",
       "      <td>0</td>\n",
       "      <td>0</td>\n",
       "      <td>1</td>\n",
       "      <td>0</td>\n",
       "      <td>0</td>\n",
       "      <td>0</td>\n",
       "    </tr>\n",
       "    <tr>\n",
       "      <th>9</th>\n",
       "      <td>F</td>\n",
       "      <td>32.0</td>\n",
       "      <td>UNM</td>\n",
       "      <td>SPC</td>\n",
       "      <td>26268.0</td>\n",
       "      <td>10</td>\n",
       "      <td>1.10</td>\n",
       "      <td>0.465026</td>\n",
       "      <td>GRD</td>\n",
       "      <td>КРАЙ СТАВРОПОЛЬСКИЙ</td>\n",
       "      <td>...</td>\n",
       "      <td>1</td>\n",
       "      <td>0</td>\n",
       "      <td>0</td>\n",
       "      <td>0</td>\n",
       "      <td>0</td>\n",
       "      <td>0</td>\n",
       "      <td>1</td>\n",
       "      <td>0</td>\n",
       "      <td>0</td>\n",
       "      <td>0</td>\n",
       "    </tr>\n",
       "    <tr>\n",
       "      <th>10</th>\n",
       "      <td>M</td>\n",
       "      <td>26.0</td>\n",
       "      <td>MAR</td>\n",
       "      <td>SPC</td>\n",
       "      <td>16793.0</td>\n",
       "      <td>14</td>\n",
       "      <td>1.00</td>\n",
       "      <td>0.445430</td>\n",
       "      <td>SCH</td>\n",
       "      <td>САНКТ-ПЕТЕРБУРГ</td>\n",
       "      <td>...</td>\n",
       "      <td>1</td>\n",
       "      <td>0</td>\n",
       "      <td>0</td>\n",
       "      <td>0</td>\n",
       "      <td>0</td>\n",
       "      <td>0</td>\n",
       "      <td>0</td>\n",
       "      <td>0</td>\n",
       "      <td>1</td>\n",
       "      <td>0</td>\n",
       "    </tr>\n",
       "    <tr>\n",
       "      <th>11</th>\n",
       "      <td>F</td>\n",
       "      <td>26.0</td>\n",
       "      <td>UNM</td>\n",
       "      <td>SPC</td>\n",
       "      <td>18936.0</td>\n",
       "      <td>10</td>\n",
       "      <td>1.32</td>\n",
       "      <td>0.455774</td>\n",
       "      <td>SCH</td>\n",
       "      <td>РЕСП. БАШКОРТОСТАН</td>\n",
       "      <td>...</td>\n",
       "      <td>1</td>\n",
       "      <td>0</td>\n",
       "      <td>0</td>\n",
       "      <td>0</td>\n",
       "      <td>0</td>\n",
       "      <td>0</td>\n",
       "      <td>0</td>\n",
       "      <td>0</td>\n",
       "      <td>1</td>\n",
       "      <td>0</td>\n",
       "    </tr>\n",
       "    <tr>\n",
       "      <th>12</th>\n",
       "      <td>M</td>\n",
       "      <td>37.0</td>\n",
       "      <td>MAR</td>\n",
       "      <td>SPC</td>\n",
       "      <td>42289.0</td>\n",
       "      <td>10</td>\n",
       "      <td>1.60</td>\n",
       "      <td>0.691609</td>\n",
       "      <td>SCH</td>\n",
       "      <td>ОБЛ АРХАНГЕЛЬСКАЯ</td>\n",
       "      <td>...</td>\n",
       "      <td>1</td>\n",
       "      <td>0</td>\n",
       "      <td>0</td>\n",
       "      <td>0</td>\n",
       "      <td>0</td>\n",
       "      <td>0</td>\n",
       "      <td>0</td>\n",
       "      <td>0</td>\n",
       "      <td>1</td>\n",
       "      <td>0</td>\n",
       "    </tr>\n",
       "  </tbody>\n",
       "</table>\n",
       "<p>5 rows × 44 columns</p>\n",
       "</div>"
      ],
      "text/plain": [
       "   gender   age marital_status job_position  credit_sum  credit_month  \\\n",
       "7       F  26.0            UNM          SPC     47878.0            10   \n",
       "9       F  32.0            UNM          SPC     26268.0            10   \n",
       "10      M  26.0            MAR          SPC     16793.0            14   \n",
       "11      F  26.0            UNM          SPC     18936.0            10   \n",
       "12      M  37.0            MAR          SPC     42289.0            10   \n",
       "\n",
       "    tariff_id  score_shk education        living_region  ...  SPC  UMN  WOI  \\\n",
       "7        1.10   0.512525       GRD       МОСКОВСКАЯ ОБЛ  ...    1    0    0   \n",
       "9        1.10   0.465026       GRD  КРАЙ СТАВРОПОЛЬСКИЙ  ...    1    0    0   \n",
       "10       1.00   0.445430       SCH      САНКТ-ПЕТЕРБУРГ  ...    1    0    0   \n",
       "11       1.32   0.455774       SCH   РЕСП. БАШКОРТОСТАН  ...    1    0    0   \n",
       "12       1.60   0.691609       SCH    ОБЛ АРХАНГЕЛЬСКАЯ  ...    1    0    0   \n",
       "\n",
       "    WRK  WRP  ACD  GRD  PGR  SCH  UGR  \n",
       "7     0    0    0    1    0    0    0  \n",
       "9     0    0    0    1    0    0    0  \n",
       "10    0    0    0    0    0    1    0  \n",
       "11    0    0    0    0    0    1    0  \n",
       "12    0    0    0    0    0    1    0  \n",
       "\n",
       "[5 rows x 44 columns]"
      ]
     },
     "execution_count": 24,
     "metadata": {},
     "output_type": "execute_result"
    }
   ],
   "source": [
    "data.head()"
   ]
  },
  {
   "cell_type": "markdown",
   "id": "cb926cc5",
   "metadata": {},
   "source": [
    "## 3) Масштабирование данных"
   ]
  },
  {
   "cell_type": "code",
   "execution_count": 25,
   "id": "377443c8",
   "metadata": {},
   "outputs": [],
   "source": [
    "from sklearn.preprocessing import MinMaxScaler, StandardScaler"
   ]
  },
  {
   "cell_type": "markdown",
   "id": "138c6e86",
   "metadata": {},
   "source": [
    "### MinMax масштабирование"
   ]
  },
  {
   "cell_type": "code",
   "execution_count": 26,
   "id": "b338e78d",
   "metadata": {},
   "outputs": [],
   "source": [
    "sc1 = MinMaxScaler()\n",
    "sc1_data = sc1.fit_transform(data[['age']])"
   ]
  },
  {
   "cell_type": "code",
   "execution_count": 27,
   "id": "50ecb1f7",
   "metadata": {},
   "outputs": [
    {
     "data": {
      "image/png": "[encoded data removed]",
      "text/plain": [
       "<Figure size 432x288 with 1 Axes>"
      ]
     },
     "metadata": {},
     "output_type": "display_data"
    }
   ],
   "source": [
    "plt.hist(data['age'], 54)\n",
    "plt.show()"
   ]
  },
  {
   "cell_type": "code",
   "execution_count": 28,
   "id": "4782917f",
   "metadata": {},
   "outputs": [
    {
     "data": {
      "image/png": "[encoded data removed]",
      "text/plain": [
       "<Figure size 432x288 with 1 Axes>"
      ]
     },
     "metadata": {},
     "output_type": "display_data"
    }
   ],
   "source": [
    "plt.hist(sc1_data, 54)\n",
    "plt.show()"
   ]
  },
  {
   "cell_type": "markdown",
   "id": "6363b943",
   "metadata": {},
   "source": [
    "### Масштабирование данных на основе Z-оценки"
   ]
  },
  {
   "cell_type": "code",
   "execution_count": 29,
   "id": "4d92c769",
   "metadata": {},
   "outputs": [],
   "source": [
    "sc2 = StandardScaler()\n",
    "sc2_data = sc2.fit_transform(data[['credit_count']])"
   ]
  },
  {
   "cell_type": "code",
   "execution_count": 30,
   "id": "c4254aae",
   "metadata": {},
   "outputs": [
    {
     "data": {
      "image/png": "[encoded data removed]",
      "text/plain": [
       "<Figure size 432x288 with 1 Axes>"
      ]
     },
     "metadata": {},
     "output_type": "display_data"
    }
   ],
   "source": [
    "plt.hist(data['credit_count'], 54)\n",
    "plt.show()"
   ]
  },
  {
   "cell_type": "code",
   "execution_count": 31,
   "id": "eb7b1daa",
   "metadata": {},
   "outputs": [
    {
     "data": {
      "image/png": "[encoded data removed]",
      "text/plain": [
       "<Figure size 432x288 with 1 Axes>"
      ]
     },
     "metadata": {},
     "output_type": "display_data"
    }
   ],
   "source": [
    "plt.hist(sc2_data, 54)\n",
    "plt.show()"
   ]
  }
 ],
 "metadata": {
  "kernelspec": {
   "display_name": "Python 3 (ipykernel)",
   "language": "python",
   "name": "python3"
  },
  "language_info": {
   "codemirror_mode": {
    "name": "ipython",
    "version": 3
   },
   "file_extension": ".py",
   "mimetype": "text/x-python",
   "name": "python",
   "nbconvert_exporter": "python",
   "pygments_lexer": "ipython3",
   "version": "3.9.7"
  }
 },
 "nbformat": 4,
 "nbformat_minor": 5
}
